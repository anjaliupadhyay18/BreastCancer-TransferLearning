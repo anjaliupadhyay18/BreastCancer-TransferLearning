{
 "cells": [
  {
   "cell_type": "code",
   "execution_count": null,
   "metadata": {},
   "outputs": [],
   "source": [
    "#Load all important packages to utilise os and\n",
    "#and sys working packages\n",
    "from keras.optimizers import SGD, Adam\n",
    "import configparser\n",
    "import os\n",
    "import sys\n",
    "#Get working directory and change paths to allow \n",
    "#for work\n",
    "wd = os.getcwd()\n",
    "config = configparser.ConfigParser()\n",
    "config.read(wd+'/etc/config.ini')\n",
    "src = wd + '/dataset/BreaKHis_v1/'\n",
    "\n"
   ]
  },
  {
   "cell_type": "code",
   "execution_count": null,
   "metadata": {},
   "outputs": [],
   "source": [
    "#import custom preprcessing modules\n",
    "from bin.preprocessing import ppmodules\n",
    "#import custom preprocessing script\n",
    "ppmain.preprocess(\n",
    "#src = 'home/jyue/Documents/BreakHis_v1/' - Location of BreakHis Dataset    \n",
    ")\n"
   ]
  },
  {
   "cell_type": "code",
   "execution_count": null,
   "metadata": {},
   "outputs": [],
   "source": [
    "#import custom load script that also deals with data augmentation\n",
    "from bin.preprocessing import load"
   ]
  },
  {
   "cell_type": "code",
   "execution_count": null,
   "metadata": {},
   "outputs": [],
   "source": [
    "# access train validation data \n",
    "train, val = load.loading()"
   ]
  },
  {
   "cell_type": "code",
   "execution_count": null,
   "metadata": {},
   "outputs": [],
   "source": [
    "#import custom class weight function \n",
    "from bin.class_weights import weights_main\n",
    "#calcute class weights as necessary\n",
    "class_weights = weights_main.create_class_weights(train)"
   ]
  },
  {
   "cell_type": "code",
   "execution_count": null,
   "metadata": {},
   "outputs": [],
   "source": [
    "#import transfer models\n",
    "from bin.models import ResNet50"
   ]
  },
  {
   "cell_type": "code",
   "execution_count": null,
   "metadata": {},
   "outputs": [],
   "source": [
    "#example usage of model, with some variables listed\n",
    "\n",
    "history, matrix, report = ResNet50.resnet50_model(\n",
    "    train, \n",
    "    val, \n",
    "    VALIDATION_SPLIT = 0.3,\n",
    "    BATCH_SIZE = 32,\n",
    "    NUM_EPOCHS = 100,\n",
    "    NUM_CLASS = 8,\n",
    "    opt = SGD(lr=0.01, decay=1e-6, momentum=0.9, nesterov=True),\n",
    "    DROPOUT = 0.5,\n",
    "    CLASS_WEIGHTS = class_weights,\n",
    "    PATIENCE = 30)"
   ]
  },
  {
   "cell_type": "code",
   "execution_count": null,
   "metadata": {},
   "outputs": [],
   "source": []
  }
 ],
 "metadata": {
  "kernelspec": {
   "display_name": "Python 3 [GPU]",
   "language": "python",
   "name": "optirun_python3"
  },
  "language_info": {
   "codemirror_mode": {
    "name": "ipython",
    "version": 3
   },
   "file_extension": ".py",
   "mimetype": "text/x-python",
   "name": "python",
   "nbconvert_exporter": "python",
   "pygments_lexer": "ipython3",
   "version": "3.7.4"
  }
 },
 "nbformat": 4,
 "nbformat_minor": 2
}
