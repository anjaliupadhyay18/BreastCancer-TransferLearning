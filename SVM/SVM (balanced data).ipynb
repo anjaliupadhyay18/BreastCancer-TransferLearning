{
 "cells": [
  {
   "cell_type": "markdown",
   "metadata": {},
   "source": [
    "# Breast Cancer Classification using SVM (balanced data)"
   ]
  },
  {
   "cell_type": "markdown",
   "metadata": {},
   "source": [
    "### Import libraries"
   ]
  },
  {
   "cell_type": "code",
   "execution_count": 186,
   "metadata": {},
   "outputs": [],
   "source": [
    "import numpy as np\n",
    "import matplotlib.pyplot as plt\n",
    "from keras.applications import VGG16\n",
    "from keras.preprocessing.image import ImageDataGenerator\n",
    "from keras.applications.vgg16 import preprocess_input\n",
    "import os, shutil\n",
    "import sklearn\n",
    "from sklearn.model_selection import GridSearchCV\n",
    "from sklearn.svm import LinearSVC\n",
    "from sklearn import svm, metrics\n",
    "from sklearn.model_selection import learning_curve\n",
    "from sklearn.linear_model import SGDClassifier\n",
    "from sklearn.utils.multiclass import unique_labels"
   ]
  },
  {
   "cell_type": "markdown",
   "metadata": {},
   "source": [
    "### Load data"
   ]
  },
  {
   "cell_type": "code",
   "execution_count": 128,
   "metadata": {},
   "outputs": [],
   "source": [
    "img_width = 224\n",
    "img_height = 224\n",
    "batch_size = 8\n",
    "\n",
    "def loading(HEIGHT = img_height, WIDTH = img_width,\n",
    "BATCH_SIZE = batch_size, VALIDATION_SPLIT = 0.3,\n",
    "ROT_RANGE = 90, H_FLIP = True, SHEAR_RANGE = 0.2,\n",
    "ZOOM_RANGE = 0.2, V_FLIP = True):\n",
    "\n",
    "    TRAIN_DIR = \"C:/Users/Abdullah Abid/Desktop/Project/BreakHis Data\"\n",
    "    train_datagen =  ImageDataGenerator(\n",
    "    preprocessing_function=preprocess_input,\n",
    "    rotation_range=ROT_RANGE,\n",
    "    horizontal_flip=H_FLIP,\n",
    "    shear_range=SHEAR_RANGE,\n",
    "    zoom_range =ZOOM_RANGE,\n",
    "    vertical_flip=V_FLIP,\n",
    "    validation_split=VALIDATION_SPLIT\n",
    "    )\n",
    "\n",
    "    train_generator = train_datagen.flow_from_directory(TRAIN_DIR,\n",
    "                                                    target_size=(HEIGHT, WIDTH),\n",
    "                                                    batch_size=BATCH_SIZE,\n",
    "                                                    subset = 'training',\n",
    "                                                    class_mode='sparse')\n",
    "    validation_generator = train_datagen.flow_from_directory(TRAIN_DIR,\n",
    "                                                        target_size = (HEIGHT, WIDTH),\n",
    "                                                        batch_size=BATCH_SIZE,\n",
    "                                                        subset = 'validation',\n",
    "                                                        class_mode='sparse')\n",
    "    return train_generator, validation_generator"
   ]
  },
  {
   "cell_type": "code",
   "execution_count": 129,
   "metadata": {},
   "outputs": [
    {
     "name": "stdout",
     "output_type": "stream",
     "text": [
      "Found 28000 images belonging to 8 classes.\n",
      "Found 12000 images belonging to 8 classes.\n",
      "Wall time: 2.42 s\n"
     ]
    }
   ],
   "source": [
    "%%time\n",
    "train_generator, validation_generator = loading()"
   ]
  },
  {
   "cell_type": "markdown",
   "metadata": {},
   "source": [
    "### SVM classifier"
   ]
  },
  {
   "cell_type": "code",
   "execution_count": 130,
   "metadata": {},
   "outputs": [],
   "source": [
    "clf = SGDClassifier(loss=\"hinge\", penalty=\"l2\")"
   ]
  },
  {
   "cell_type": "code",
   "execution_count": 131,
   "metadata": {},
   "outputs": [
    {
     "name": "stdout",
     "output_type": "stream",
     "text": [
      "Wall time: 19min 30s\n"
     ]
    }
   ],
   "source": [
    "%%time\n",
    "\n",
    "count = 0\n",
    "for inputs_batch, labels_batch in train_generator:\n",
    "    count = count + 1\n",
    "    X_train = []\n",
    "    y_train = []\n",
    "    for i in range(0, batch_size):\n",
    "        X_train.append(inputs_batch[i].flatten())\n",
    "        y_train.append(labels_batch[i])\n",
    "    X_train = np.array(X_train)\n",
    "    y_train = np.array(y_train)\n",
    "    y_train = y_train.astype(int)\n",
    "    clf.partial_fit(X_train, y_train, classes=np.unique(train_generator.classes))\n",
    "    if count * batch_size >= train_generator.n:\n",
    "        break"
   ]
  },
  {
   "cell_type": "code",
   "execution_count": 132,
   "metadata": {},
   "outputs": [
    {
     "name": "stdout",
     "output_type": "stream",
     "text": [
      "Wall time: 7min 21s\n"
     ]
    }
   ],
   "source": [
    "%%time\n",
    "\n",
    "y_test = []\n",
    "y_pred = []\n",
    "count = 0\n",
    "\n",
    "for inputs_batch, labels_batch in validation_generator:\n",
    "    count = count + 1\n",
    "    X_test = []\n",
    "    for i in range(0, batch_size):\n",
    "        X_test.append(inputs_batch[i].flatten())\n",
    "        y_test.append(labels_batch[i])\n",
    "    X_test = np.array(X_test)\n",
    "    y_pred.append(clf.predict(X_test))\n",
    "    if count * batch_size >= validation_generator.n:\n",
    "        break\n",
    "        \n",
    "y_test = np.array(y_test)\n",
    "y_test = y_test.astype(int)\n",
    "y_pred = np.array(y_pred)\n",
    "y_pred = y_pred.flatten()"
   ]
  },
  {
   "cell_type": "markdown",
   "metadata": {},
   "source": [
    "### Classification report"
   ]
  },
  {
   "cell_type": "code",
   "execution_count": 133,
   "metadata": {},
   "outputs": [
    {
     "name": "stdout",
     "output_type": "stream",
     "text": [
      "              precision    recall  f1-score   support\n",
      "\n",
      "           0       0.00      0.00      0.00      1500\n",
      "           1       0.87      0.04      0.08      1500\n",
      "           2       0.60      0.00      0.00      1500\n",
      "           3       0.00      0.00      0.00      1500\n",
      "           4       0.00      0.00      0.00      1500\n",
      "           5       0.13      0.53      0.21      1500\n",
      "           6       0.15      0.58      0.24      1500\n",
      "           7       0.00      0.00      0.00      1500\n",
      "\n",
      "    accuracy                           0.15     12000\n",
      "   macro avg       0.22      0.15      0.07     12000\n",
      "weighted avg       0.22      0.15      0.07     12000\n",
      "\n"
     ]
    },
    {
     "name": "stderr",
     "output_type": "stream",
     "text": [
      "C:\\ProgramData\\Anaconda3\\lib\\site-packages\\sklearn\\metrics\\classification.py:1437: UndefinedMetricWarning: Precision and F-score are ill-defined and being set to 0.0 in labels with no predicted samples.\n",
      "  'precision', 'predicted', average, warn_for)\n"
     ]
    }
   ],
   "source": [
    "print(metrics.classification_report(y_test, y_pred))"
   ]
  },
  {
   "cell_type": "markdown",
   "metadata": {},
   "source": [
    "### Confusion matrix"
   ]
  },
  {
   "cell_type": "code",
   "execution_count": 187,
   "metadata": {},
   "outputs": [],
   "source": [
    "# code reference: https://scikit-learn.org/stable/auto_examples/model_selection/plot_confusion_matrix.html\n",
    "\n",
    "def plot_confusion_matrix(y_true, y_pred, classes,\n",
    "                          normalize=False,\n",
    "                          title=None,\n",
    "                          cmap=plt.cm.Blues):\n",
    "\n",
    "    # Compute confusion matrix\n",
    "    cm = metrics.confusion_matrix(y_true, y_pred)\n",
    "    # Only use the labels that appear in the data\n",
    "    classes = classes[unique_labels(y_true, y_pred)]\n",
    "    if normalize:\n",
    "        cm = cm.astype('float') / cm.sum(axis=1)[:, np.newaxis]\n",
    "        print(\"Normalized confusion matrix\")\n",
    "    else:\n",
    "        print('Confusion matrix, without normalization')\n",
    "\n",
    "    print(cm)\n",
    "\n",
    "    fig, ax = plt.subplots()\n",
    "    im = ax.imshow(cm, interpolation='nearest', cmap=cmap)\n",
    "    ax.figure.colorbar(im, ax=ax)\n",
    "    # We want to show all ticks...\n",
    "    ax.set(xticks=np.arange(cm.shape[1]),\n",
    "           yticks=np.arange(cm.shape[0]),\n",
    "           # ... and label them with the respective list entries\n",
    "           xticklabels=classes, yticklabels=classes,\n",
    "           title=title,\n",
    "           ylabel='True label',\n",
    "           xlabel='Predicted label')\n",
    "\n",
    "    # Rotate the tick labels and set their alignment.\n",
    "    plt.setp(ax.get_xticklabels(), rotation=45, ha=\"right\",\n",
    "             rotation_mode=\"anchor\")\n",
    "\n",
    "    # Loop over data dimensions and create text annotations.\n",
    "    fmt = '.2f' if normalize else 'd'\n",
    "    thresh = cm.max() / 2.\n",
    "    for i in range(cm.shape[0]):\n",
    "        for j in range(cm.shape[1]):\n",
    "            ax.text(j, i, format(cm[i, j], fmt),\n",
    "                    ha=\"center\", va=\"center\",\n",
    "                    color=\"white\" if cm[i, j] > thresh else \"black\")\n",
    "    fig.tight_layout()\n",
    "    return ax"
   ]
  },
  {
   "cell_type": "code",
   "execution_count": 188,
   "metadata": {},
   "outputs": [],
   "source": [
    "class_names = []\n",
    "\n",
    "for key in train_generator.class_indices.keys():\n",
    "    class_names.append(key)\n",
    "\n",
    "class_names = np.array(class_names)"
   ]
  },
  {
   "cell_type": "code",
   "execution_count": 195,
   "metadata": {},
   "outputs": [
    {
     "name": "stdout",
     "output_type": "stream",
     "text": [
      "Confusion matrix, without normalization\n",
      "[[   0    0    0    0    0  484 1016    0]\n",
      " [   0   65    1    0    9 1193  232    0]\n",
      " [   0    0    3    0    0  478 1019    0]\n",
      " [   0    0    0    0    3  927  570    0]\n",
      " [   0    0    0    2    0  935  563    0]\n",
      " [   0    9    1    1    5  801  683    0]\n",
      " [   0    0    0    0    0  628  872    0]\n",
      " [   0    1    0    0    0  562  937    0]]\n"
     ]
    },
    {
     "data": {
      "image/png": "[encoded data removed]",
      "text/plain": [
       "<Figure size 432x288 with 2 Axes>"
      ]
     },
     "metadata": {
      "needs_background": "light"
     },
     "output_type": "display_data"
    }
   ],
   "source": [
    "# Plot confusion matrix\n",
    "plot_confusion_matrix(y_test, y_pred, classes=class_names,\n",
    "                      title='Confusion matrix')\n",
    "plt.show()"
   ]
  },
  {
   "cell_type": "code",
   "execution_count": 193,
   "metadata": {},
   "outputs": [
    {
     "name": "stdout",
     "output_type": "stream",
     "text": [
      "Normalized confusion matrix\n",
      "[[0.00e+00 0.00e+00 0.00e+00 0.00e+00 0.00e+00 3.23e-01 6.77e-01 0.00e+00]\n",
      " [0.00e+00 4.33e-02 6.67e-04 0.00e+00 6.00e-03 7.95e-01 1.55e-01 0.00e+00]\n",
      " [0.00e+00 0.00e+00 2.00e-03 0.00e+00 0.00e+00 3.19e-01 6.79e-01 0.00e+00]\n",
      " [0.00e+00 0.00e+00 0.00e+00 0.00e+00 2.00e-03 6.18e-01 3.80e-01 0.00e+00]\n",
      " [0.00e+00 0.00e+00 0.00e+00 1.33e-03 0.00e+00 6.23e-01 3.75e-01 0.00e+00]\n",
      " [0.00e+00 6.00e-03 6.67e-04 6.67e-04 3.33e-03 5.34e-01 4.55e-01 0.00e+00]\n",
      " [0.00e+00 0.00e+00 0.00e+00 0.00e+00 0.00e+00 4.19e-01 5.81e-01 0.00e+00]\n",
      " [0.00e+00 6.67e-04 0.00e+00 0.00e+00 0.00e+00 3.75e-01 6.25e-01 0.00e+00]]\n"
     ]
    },
    {
     "data": {
      "image/png": "[encoded data removed]",
      "text/plain": [
       "<Figure size 432x288 with 2 Axes>"
      ]
     },
     "metadata": {
      "needs_background": "light"
     },
     "output_type": "display_data"
    }
   ],
   "source": [
    "# Plot normalized confusion matrix\n",
    "np.set_printoptions(precision=2)\n",
    "plot_confusion_matrix(y_test, y_pred, classes=class_names, normalize=True,\n",
    "                      title='Normalized confusion matrix')\n",
    "plt.show()"
   ]
  }
 ],
 "metadata": {
  "kernelspec": {
   "display_name": "Python 3",
   "language": "python",
   "name": "python3"
  },
  "language_info": {
   "codemirror_mode": {
    "name": "ipython",
    "version": 3
   },
   "file_extension": ".py",
   "mimetype": "text/x-python",
   "name": "python",
   "nbconvert_exporter": "python",
   "pygments_lexer": "ipython3",
   "version": "3.7.3"
  }
 },
 "nbformat": 4,
 "nbformat_minor": 2
}
