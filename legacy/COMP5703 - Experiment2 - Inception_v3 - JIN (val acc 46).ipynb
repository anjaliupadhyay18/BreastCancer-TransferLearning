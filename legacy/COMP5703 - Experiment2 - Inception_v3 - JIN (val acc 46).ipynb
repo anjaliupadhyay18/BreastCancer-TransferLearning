{
 "cells": [
  {
   "cell_type": "code",
   "execution_count": 1,
   "metadata": {},
   "outputs": [],
   "source": [
    "import numpy as np\n",
    "import pandas as pd\n",
    "import tensorflow as tf\n",
    "import os\n",
    "import imageio\n",
    "from sklearn.model_selection import train_test_split\n",
    "from sklearn.preprocessing import MultiLabelBinarizer, OneHotEncoder\n",
    "from tensorflow.keras.preprocessing.image import ImageDataGenerator\n",
    "from tensorflow.keras.applications.xception import preprocess_input\n",
    "\n",
    "from tensorflow import keras\n",
    "from tensorflow.keras.models import Sequential\n",
    "from tensorflow.keras.layers import Dropout, Flatten, Dense, Activation, GlobalAveragePooling2D, MaxPooling2D, Conv2D\n",
    "from tensorflow.keras import applications as app\n",
    "from tensorflow.keras import optimizers, losses, activations, models\n",
    "\n",
    "#from skimage import io\n",
    "import matplotlib.pyplot as plt\n",
    "%matplotlib inline"
   ]
  },
  {
   "cell_type": "markdown",
   "metadata": {},
   "source": [
    "### Data pre-processing"
   ]
  },
  {
   "cell_type": "code",
   "execution_count": 2,
   "metadata": {},
   "outputs": [],
   "source": [
    "data_generator = ImageDataGenerator(rescale=1/255)"
   ]
  },
  {
   "cell_type": "code",
   "execution_count": 3,
   "metadata": {},
   "outputs": [
    {
     "name": "stdout",
     "output_type": "stream",
     "text": [
      "Found 5005 images belonging to 8 classes.\n",
      "Wall time: 638 ms\n"
     ]
    }
   ],
   "source": [
    "%%time\n",
    "train_generator = data_generator.flow_from_directory(\n",
    "        directory='C:/breakhis/train',\n",
    "        target_size=(150, 150),\n",
    "        batch_size=11,\n",
    "        class_mode='categorical',\n",
    "        shuffle=True)"
   ]
  },
  {
   "cell_type": "code",
   "execution_count": 4,
   "metadata": {},
   "outputs": [
    {
     "name": "stdout",
     "output_type": "stream",
     "text": [
      "Found 2904 images belonging to 8 classes.\n"
     ]
    }
   ],
   "source": [
    "test_generator = data_generator.flow_from_directory(\n",
    "        directory='C:/breakhis/test',\n",
    "        target_size=(150, 150),\n",
    "        batch_size=11,\n",
    "        class_mode='categorical',\n",
    "        shuffle=True)"
   ]
  },
  {
   "cell_type": "markdown",
   "metadata": {},
   "source": [
    "### Build Model3: Transfer learning (inception v3)"
   ]
  },
  {
   "cell_type": "code",
   "execution_count": 5,
   "metadata": {},
   "outputs": [
    {
     "name": "stderr",
     "output_type": "stream",
     "text": [
      "WARNING: Logging before flag parsing goes to stderr.\n",
      "W0918 17:04:53.861092 37928 deprecation.py:506] From C:\\Users\\alien\\Anaconda3\\lib\\site-packages\\tensorflow\\python\\ops\\init_ops.py:1251: calling VarianceScaling.__init__ (from tensorflow.python.ops.init_ops) with dtype is deprecated and will be removed in a future version.\n",
      "Instructions for updating:\n",
      "Call initializer instance with the dtype argument instead of passing it to the constructor\n"
     ]
    }
   ],
   "source": [
    "# We can change different transfer model in this line\n",
    "base_incepv3_model = app.InceptionV3(weights='imagenet', include_top=False, input_shape=(150, 150,3))"
   ]
  },
  {
   "cell_type": "code",
   "execution_count": 6,
   "metadata": {},
   "outputs": [],
   "source": [
    "model3 = Sequential()\n",
    "model3.add(base_incepv3_model)\n",
    "\n",
    "\n",
    "model3.add(Flatten())\n",
    "model3.add(Dense(64, activation='relu'))\n",
    "model3.add(Dense(8, activation='softmax'))"
   ]
  },
  {
   "cell_type": "code",
   "execution_count": 7,
   "metadata": {},
   "outputs": [],
   "source": [
    "model3.compile(loss='categorical_crossentropy', \n",
    "              optimizer=optimizers.SGD(lr=0.0001, momentum=0.9),\n",
    "              metrics=['accuracy'])"
   ]
  },
  {
   "cell_type": "code",
   "execution_count": 8,
   "metadata": {},
   "outputs": [
    {
     "name": "stdout",
     "output_type": "stream",
     "text": [
      "Model: \"sequential\"\n",
      "_________________________________________________________________\n",
      "Layer (type)                 Output Shape              Param #   \n",
      "=================================================================\n",
      "inception_v3 (Model)         (None, 3, 3, 2048)        21802784  \n",
      "_________________________________________________________________\n",
      "flatten (Flatten)            (None, 18432)             0         \n",
      "_________________________________________________________________\n",
      "dense (Dense)                (None, 64)                1179712   \n",
      "_________________________________________________________________\n",
      "dense_1 (Dense)              (None, 8)                 520       \n",
      "=================================================================\n",
      "Total params: 22,983,016\n",
      "Trainable params: 22,948,584\n",
      "Non-trainable params: 34,432\n",
      "_________________________________________________________________\n"
     ]
    }
   ],
   "source": [
    "model3.summary()"
   ]
  },
  {
   "cell_type": "code",
   "execution_count": 9,
   "metadata": {},
   "outputs": [
    {
     "name": "stdout",
     "output_type": "stream",
     "text": [
      "Epoch 1/20\n",
      "455/455 [==============================] - 221s 486ms/step - loss: 1.6239 - acc: 0.4621 - val_loss: 1.9848 - val_acc: 0.3933\n",
      "Epoch 2/20\n",
      "455/455 [==============================] - 153s 337ms/step - loss: 1.3044 - acc: 0.5493 - val_loss: 1.8489 - val_acc: 0.4205\n",
      "Epoch 3/20\n",
      "455/455 [==============================] - 170s 373ms/step - loss: 1.0297 - acc: 0.6390 - val_loss: 1.8551 - val_acc: 0.4208\n",
      "Epoch 4/20\n",
      "455/455 [==============================] - 119s 263ms/step - loss: 0.8057 - acc: 0.7221 - val_loss: 2.0915 - val_acc: 0.4332\n",
      "Epoch 5/20\n",
      "455/455 [==============================] - 119s 261ms/step - loss: 0.6668 - acc: 0.7698 - val_loss: 2.2761 - val_acc: 0.4201\n",
      "Epoch 6/20\n",
      "455/455 [==============================] - 124s 273ms/step - loss: 0.5506 - acc: 0.8028 - val_loss: 2.3058 - val_acc: 0.4563\n",
      "Epoch 7/20\n",
      "455/455 [==============================] - 117s 257ms/step - loss: 0.4663 - acc: 0.8354 - val_loss: 2.4825 - val_acc: 0.4459\n",
      "Epoch 8/20\n",
      "455/455 [==============================] - 127s 278ms/step - loss: 0.4044 - acc: 0.8553 - val_loss: 2.5841 - val_acc: 0.4387\n",
      "Epoch 9/20\n",
      "455/455 [==============================] - 126s 276ms/step - loss: 0.3506 - acc: 0.8821 - val_loss: 2.7531 - val_acc: 0.4618\n",
      "Epoch 10/20\n",
      "455/455 [==============================] - 125s 274ms/step - loss: 0.3137 - acc: 0.8895 - val_loss: 2.7094 - val_acc: 0.4421\n",
      "Epoch 11/20\n",
      "455/455 [==============================] - 125s 274ms/step - loss: 0.2495 - acc: 0.9149 - val_loss: 2.8945 - val_acc: 0.4473\n",
      "Epoch 12/20\n",
      "455/455 [==============================] - 117s 258ms/step - loss: 0.2374 - acc: 0.9235 - val_loss: 3.1506 - val_acc: 0.4594\n",
      "Epoch 13/20\n",
      "455/455 [==============================] - 129s 284ms/step - loss: 0.2203 - acc: 0.9245 - val_loss: 3.1290 - val_acc: 0.4384\n",
      "Epoch 14/20\n",
      "455/455 [==============================] - 118s 258ms/step - loss: 0.1936 - acc: 0.9325 - val_loss: 3.3164 - val_acc: 0.4222\n",
      "Epoch 15/20\n",
      "455/455 [==============================] - 124s 273ms/step - loss: 0.1615 - acc: 0.9459 - val_loss: 3.2443 - val_acc: 0.4273\n",
      "Epoch 16/20\n",
      "455/455 [==============================] - 118s 259ms/step - loss: 0.1651 - acc: 0.9431 - val_loss: 3.3152 - val_acc: 0.4428\n",
      "Epoch 17/20\n",
      "455/455 [==============================] - 125s 274ms/step - loss: 0.1418 - acc: 0.9546 - val_loss: 3.3422 - val_acc: 0.4697\n",
      "Epoch 18/20\n",
      "455/455 [==============================] - 124s 272ms/step - loss: 0.1269 - acc: 0.9576 - val_loss: 3.6381 - val_acc: 0.4435\n",
      "Epoch 19/20\n",
      "455/455 [==============================] - 183s 403ms/step - loss: 0.1177 - acc: 0.9632 - val_loss: 3.5718 - val_acc: 0.4394\n",
      "Epoch 20/20\n",
      "455/455 [==============================] - 167s 367ms/step - loss: 0.1092 - acc: 0.9684 - val_loss: 3.4989 - val_acc: 0.4652\n",
      "Wall time: 45min 32s\n"
     ]
    }
   ],
   "source": [
    "%%time\n",
    "history3 = model3.fit_generator(train_generator, steps_per_epoch=5005/11, \n",
    "                              validation_data=test_generator, validation_steps=2904/11, \n",
    "                              shuffle=True, epochs=20, verbose=True)"
   ]
  },
  {
   "cell_type": "code",
   "execution_count": 10,
   "metadata": {},
   "outputs": [
    {
     "data": {
      "text/plain": [
       "<matplotlib.legend.Legend at 0x26294634cc8>"
      ]
     },
     "execution_count": 10,
     "metadata": {},
     "output_type": "execute_result"
    },
    {
     "data": {
      "image/png": "[encoded data removed]",
      "text/plain": [
       "<Figure size 432x288 with 1 Axes>"
      ]
     },
     "metadata": {
      "needs_background": "light"
     },
     "output_type": "display_data"
    }
   ],
   "source": [
    "plt.plot(range(20), history3.history['acc'])\n",
    "plt.plot(range(20), history3.history['val_acc'])\n",
    "plt.title(\"Inception V3 accuracy of training and validation set\")\n",
    "plt.xlabel(\"Epoch\")\n",
    "plt.ylabel(\"Accuracy\")\n",
    "plt.legend([\"Training set\", \"Validation set\"])"
   ]
  },
  {
   "cell_type": "code",
   "execution_count": 11,
   "metadata": {},
   "outputs": [
    {
     "data": {
      "text/plain": [
       "<matplotlib.legend.Legend at 0x26294634ec8>"
      ]
     },
     "execution_count": 11,
     "metadata": {},
     "output_type": "execute_result"
    },
    {
     "data": {
      "image/png": "[encoded data removed]",
      "text/plain": [
       "<Figure size 432x288 with 1 Axes>"
      ]
     },
     "metadata": {
      "needs_background": "light"
     },
     "output_type": "display_data"
    }
   ],
   "source": [
    "plt.plot(range(20), history3.history['loss'])\n",
    "plt.plot(range(20), history3.history['val_loss'])\n",
    "plt.title(\"Inception V3 loss of training and validation set\")\n",
    "plt.xlabel(\"Epoch\")\n",
    "plt.ylabel(\"Loss\")\n",
    "plt.legend([\"Training set\", \"Validation set\"])"
   ]
  }
 ],
 "metadata": {
  "kernelspec": {
   "display_name": "Python 3",
   "language": "python",
   "name": "python3"
  },
  "language_info": {
   "codemirror_mode": {
    "name": "ipython",
    "version": 3
   },
   "file_extension": ".py",
   "mimetype": "text/x-python",
   "name": "python",
   "nbconvert_exporter": "python",
   "pygments_lexer": "ipython3",
   "version": "3.7.4"
  }
 },
 "nbformat": 4,
 "nbformat_minor": 2
}
