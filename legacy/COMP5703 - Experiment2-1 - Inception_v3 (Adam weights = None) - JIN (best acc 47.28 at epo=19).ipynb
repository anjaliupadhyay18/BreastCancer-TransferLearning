{
 "cells": [
  {
   "cell_type": "code",
   "execution_count": 1,
   "metadata": {},
   "outputs": [],
   "source": [
    "import numpy as np\n",
    "import pandas as pd\n",
    "import tensorflow as tf\n",
    "import os\n",
    "import imageio\n",
    "from sklearn.model_selection import train_test_split\n",
    "from sklearn.preprocessing import MultiLabelBinarizer, OneHotEncoder\n",
    "from tensorflow.keras.preprocessing.image import ImageDataGenerator\n",
    "from tensorflow.keras.applications.xception import preprocess_input\n",
    "\n",
    "from tensorflow import keras\n",
    "from tensorflow.keras.models import Sequential\n",
    "from tensorflow.keras.layers import Dropout, Flatten, Dense, Activation, GlobalAveragePooling2D, MaxPooling2D, Conv2D\n",
    "from tensorflow.keras import applications as app\n",
    "from tensorflow.keras import optimizers, losses, activations, models\n",
    "\n",
    "#from skimage import io\n",
    "import matplotlib.pyplot as plt\n",
    "%matplotlib inline"
   ]
  },
  {
   "cell_type": "markdown",
   "metadata": {},
   "source": [
    "### Data pre-processing"
   ]
  },
  {
   "cell_type": "code",
   "execution_count": 2,
   "metadata": {},
   "outputs": [],
   "source": [
    "data_generator = ImageDataGenerator(rescale=1/255)"
   ]
  },
  {
   "cell_type": "code",
   "execution_count": 4,
   "metadata": {},
   "outputs": [],
   "source": [
    "input_w = 150 \n",
    "input_h = 150\n",
    "batch_size_train = 11\n",
    "batch_size_test = 11"
   ]
  },
  {
   "cell_type": "code",
   "execution_count": 5,
   "metadata": {},
   "outputs": [
    {
     "name": "stdout",
     "output_type": "stream",
     "text": [
      "Found 5005 images belonging to 8 classes.\n",
      "Wall time: 225 ms\n"
     ]
    }
   ],
   "source": [
    "%%time\n",
    "train_generator = data_generator.flow_from_directory(\n",
    "        directory='C:/breakhis/train',\n",
    "        target_size=(input_w, input_h),\n",
    "        batch_size=batch_size_train,\n",
    "        class_mode='categorical',\n",
    "        shuffle=True)"
   ]
  },
  {
   "cell_type": "code",
   "execution_count": 6,
   "metadata": {},
   "outputs": [
    {
     "name": "stdout",
     "output_type": "stream",
     "text": [
      "Found 2904 images belonging to 8 classes.\n"
     ]
    }
   ],
   "source": [
    "test_generator = data_generator.flow_from_directory(\n",
    "        directory='C:/breakhis/test',\n",
    "        target_size=(input_w, input_h),\n",
    "        batch_size=batch_size_test,\n",
    "        class_mode='categorical',\n",
    "        shuffle=True)"
   ]
  },
  {
   "cell_type": "markdown",
   "metadata": {},
   "source": [
    "### Build Model3-2: Transfer learning (inception v3)"
   ]
  },
  {
   "cell_type": "code",
   "execution_count": 7,
   "metadata": {},
   "outputs": [
    {
     "name": "stderr",
     "output_type": "stream",
     "text": [
      "WARNING: Logging before flag parsing goes to stderr.\n",
      "W0920 17:02:12.052968  8204 deprecation.py:506] From C:\\Users\\alien\\Anaconda3\\lib\\site-packages\\tensorflow\\python\\ops\\init_ops.py:1251: calling VarianceScaling.__init__ (from tensorflow.python.ops.init_ops) with dtype is deprecated and will be removed in a future version.\n",
      "Instructions for updating:\n",
      "Call initializer instance with the dtype argument instead of passing it to the constructor\n"
     ]
    }
   ],
   "source": [
    "# We can change different transfer model in this line\n",
    "base_incepv3_model = app.inception_v3.InceptionV3(weights=None, include_top=False, input_shape=(input_w, input_h,3), pooling = 'avg')"
   ]
  },
  {
   "cell_type": "code",
   "execution_count": 8,
   "metadata": {},
   "outputs": [],
   "source": [
    "model3_1 = Sequential()\n",
    "model3_1.add(base_incepv3_model)\n",
    "\n",
    "model3_1.add(Dense(1024, activation='relu'))\n",
    "model3_1.add(Dropout(0.5))\n",
    "\n",
    "model3_1.add(Dense(1024, activation='relu'))\n",
    "model3_1.add(Dropout(0.5))\n",
    "\n",
    "model3_1.add(Dense(8, activation='softmax'))"
   ]
  },
  {
   "cell_type": "code",
   "execution_count": 9,
   "metadata": {},
   "outputs": [],
   "source": [
    "model3_1.compile(loss='categorical_crossentropy', \n",
    "              optimizer= 'Adam',\n",
    "              metrics=['accuracy'])"
   ]
  },
  {
   "cell_type": "code",
   "execution_count": 11,
   "metadata": {},
   "outputs": [
    {
     "name": "stdout",
     "output_type": "stream",
     "text": [
      "Model: \"sequential\"\n",
      "_________________________________________________________________\n",
      "Layer (type)                 Output Shape              Param #   \n",
      "=================================================================\n",
      "inception_v3 (Model)         (None, 2048)              21802784  \n",
      "_________________________________________________________________\n",
      "dense (Dense)                (None, 1024)              2098176   \n",
      "_________________________________________________________________\n",
      "dropout (Dropout)            (None, 1024)              0         \n",
      "_________________________________________________________________\n",
      "dense_1 (Dense)              (None, 1024)              1049600   \n",
      "_________________________________________________________________\n",
      "dropout_1 (Dropout)          (None, 1024)              0         \n",
      "_________________________________________________________________\n",
      "dense_2 (Dense)              (None, 8)                 8200      \n",
      "=================================================================\n",
      "Total params: 24,958,760\n",
      "Trainable params: 24,924,328\n",
      "Non-trainable params: 34,432\n",
      "_________________________________________________________________\n"
     ]
    }
   ],
   "source": [
    "model3_1.summary()"
   ]
  },
  {
   "cell_type": "code",
   "execution_count": 12,
   "metadata": {},
   "outputs": [
    {
     "name": "stdout",
     "output_type": "stream",
     "text": [
      "Epoch 1/20\n",
      "455/455 [==============================] - 149s 327ms/step - loss: 1.8576 - acc: 0.4665 - val_loss: 2.2804 - val_acc: 0.3919\n",
      "Epoch 2/20\n",
      "455/455 [==============================] - 121s 266ms/step - loss: 1.5201 - acc: 0.5049 - val_loss: 2.5677 - val_acc: 0.3919\n",
      "Epoch 3/20\n",
      "455/455 [==============================] - 126s 277ms/step - loss: 1.5301 - acc: 0.5017 - val_loss: 5.0562 - val_acc: 0.0689\n",
      "Epoch 4/20\n",
      "455/455 [==============================] - 129s 282ms/step - loss: 1.4955 - acc: 0.5117 - val_loss: 11.0614 - val_acc: 0.1140\n",
      "Epoch 5/20\n",
      "455/455 [==============================] - 132s 290ms/step - loss: 1.4652 - acc: 0.5169 - val_loss: 2.0677 - val_acc: 0.3963\n",
      "Epoch 6/20\n",
      "455/455 [==============================] - 130s 286ms/step - loss: 1.4363 - acc: 0.5169 - val_loss: 3.1498 - val_acc: 0.2135\n",
      "Epoch 7/20\n",
      "455/455 [==============================] - 125s 274ms/step - loss: 1.4070 - acc: 0.5211 - val_loss: 2.5228 - val_acc: 0.2579\n",
      "Epoch 8/20\n",
      "455/455 [==============================] - 135s 298ms/step - loss: 1.4288 - acc: 0.5179 - val_loss: 5.2685 - val_acc: 0.1240\n",
      "Epoch 9/20\n",
      "455/455 [==============================] - 127s 279ms/step - loss: 1.4476 - acc: 0.5141 - val_loss: 1.8135 - val_acc: 0.4690\n",
      "Epoch 10/20\n",
      "455/455 [==============================] - 121s 266ms/step - loss: 1.3719 - acc: 0.5207 - val_loss: 2.0313 - val_acc: 0.4384\n",
      "Epoch 11/20\n",
      "455/455 [==============================] - 126s 278ms/step - loss: 1.3588 - acc: 0.5199 - val_loss: 4.1002 - val_acc: 0.1939\n",
      "Epoch 12/20\n",
      "455/455 [==============================] - 130s 287ms/step - loss: 1.4219 - acc: 0.5239 - val_loss: 1.9260 - val_acc: 0.4032\n",
      "Epoch 13/20\n",
      "455/455 [==============================] - 125s 274ms/step - loss: 1.3640 - acc: 0.5325 - val_loss: 1.8622 - val_acc: 0.4366\n",
      "Epoch 14/20\n",
      "455/455 [==============================] - 131s 287ms/step - loss: 1.3257 - acc: 0.5257 - val_loss: 1.9852 - val_acc: 0.4322\n",
      "Epoch 15/20\n",
      "455/455 [==============================] - 128s 282ms/step - loss: 1.3083 - acc: 0.5441 - val_loss: 1.9600 - val_acc: 0.4632\n",
      "Epoch 16/20\n",
      "455/455 [==============================] - 129s 283ms/step - loss: 1.3245 - acc: 0.5349 - val_loss: 1.9321 - val_acc: 0.4663\n",
      "Epoch 17/20\n",
      "455/455 [==============================] - 127s 279ms/step - loss: 1.2691 - acc: 0.5514 - val_loss: 2.0690 - val_acc: 0.3791\n",
      "Epoch 18/20\n",
      "455/455 [==============================] - 127s 280ms/step - loss: 1.2802 - acc: 0.5413 - val_loss: 2.3812 - val_acc: 0.2827\n",
      "Epoch 19/20\n",
      "455/455 [==============================] - 126s 277ms/step - loss: 1.2566 - acc: 0.5634 - val_loss: 1.8436 - val_acc: 0.4728\n",
      "Epoch 20/20\n",
      "455/455 [==============================] - 135s 298ms/step - loss: 1.2883 - acc: 0.5502 - val_loss: 2.7655 - val_acc: 0.3044\n",
      "Wall time: 43min 4s\n"
     ]
    }
   ],
   "source": [
    "%%time\n",
    "history3_1 = model3_1.fit_generator(train_generator, steps_per_epoch=5005/batch_size_train, \n",
    "                              validation_data=test_generator, validation_steps=2904/batch_size_test, \n",
    "                              shuffle=True, epochs=20, verbose=True)"
   ]
  },
  {
   "cell_type": "code",
   "execution_count": 13,
   "metadata": {},
   "outputs": [
    {
     "data": {
      "text/plain": [
       "<matplotlib.legend.Legend at 0x1d60ebb0f88>"
      ]
     },
     "execution_count": 13,
     "metadata": {},
     "output_type": "execute_result"
    },
    {
     "data": {
      "image/png": "[encoded data removed]",
      "text/plain": [
       "<Figure size 432x288 with 1 Axes>"
      ]
     },
     "metadata": {
      "needs_background": "light"
     },
     "output_type": "display_data"
    }
   ],
   "source": [
    "plt.plot(range(20), history3_1.history['acc'])\n",
    "plt.plot(range(20), history3_1.history['val_acc'])\n",
    "plt.title(\"Inception V3 accuracy (Adam / weight = None)\")\n",
    "plt.xlabel(\"Epoch\")\n",
    "plt.ylabel(\"Accuracy\")\n",
    "plt.legend([\"Training set\", \"Validation set\"])"
   ]
  },
  {
   "cell_type": "code",
   "execution_count": 14,
   "metadata": {},
   "outputs": [
    {
     "data": {
      "text/plain": [
       "<matplotlib.legend.Legend at 0x1d56accfc08>"
      ]
     },
     "execution_count": 14,
     "metadata": {},
     "output_type": "execute_result"
    },
    {
     "data": {
      "image/png": "[encoded data removed]",
      "text/plain": [
       "<Figure size 432x288 with 1 Axes>"
      ]
     },
     "metadata": {
      "needs_background": "light"
     },
     "output_type": "display_data"
    }
   ],
   "source": [
    "plt.plot(range(20), history3_1.history['loss'])\n",
    "plt.plot(range(20), history3_1.history['val_loss'])\n",
    "plt.title(\"Inception V3 loss (Adam / weight = None)\")\n",
    "plt.xlabel(\"Epoch\")\n",
    "plt.ylabel(\"Loss\")\n",
    "plt.legend([\"Training set\", \"Validation set\"])"
   ]
  }
 ],
 "metadata": {
  "kernelspec": {
   "display_name": "Python 3",
   "language": "python",
   "name": "python3"
  },
  "language_info": {
   "codemirror_mode": {
    "name": "ipython",
    "version": 3
   },
   "file_extension": ".py",
   "mimetype": "text/x-python",
   "name": "python",
   "nbconvert_exporter": "python",
   "pygments_lexer": "ipython3",
   "version": "3.7.4"
  }
 },
 "nbformat": 4,
 "nbformat_minor": 2
}
