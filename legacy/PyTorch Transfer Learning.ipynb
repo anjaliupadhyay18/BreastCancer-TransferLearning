{
 "cells": [
  {
   "cell_type": "markdown",
   "metadata": {},
   "source": [
    "Breast tumour classification in PyTorch\n",
    "=============================\n"
   ]
  },
  {
   "cell_type": "code",
   "execution_count": 1,
   "metadata": {},
   "outputs": [],
   "source": [
    "from __future__ import print_function \n",
    "from __future__ import division\n",
    "import torch\n",
    "import torch.nn as nn\n",
    "import torch.optim as optim\n",
    "import numpy as np\n",
    "import torchvision\n",
    "from torchvision import datasets, models, transforms\n",
    "import matplotlib.pyplot as plt\n",
    "import time\n",
    "import os\n",
    "import copy\n",
    "from sklearn.metrics import confusion_matrix, classification_report, accuracy_score, balanced_accuracy_score\n",
    "%matplotlib inline"
   ]
  },
  {
   "cell_type": "markdown",
   "metadata": {},
   "source": [
    "Initial parameters\n",
    "-------------------"
   ]
  },
  {
   "cell_type": "code",
   "execution_count": 2,
   "metadata": {},
   "outputs": [],
   "source": [
    "# directory contains train and val folders with 8x class folders in each\n",
    "data_dir = \"C:/Users/Renee/Documents/2019/Semester 2/COMP5703/Data/breakhis\"\n",
    "\n",
    "num_classes = 8\n",
    "\n",
    "# increase/decrease as memory allows\n",
    "batch_size = 8\n",
    "\n",
    "num_epochs = 10\n",
    "\n",
    "# False to finetune the whole model. True to freeze and update only last layers\n",
    "feature_extract = False"
   ]
  },
  {
   "cell_type": "markdown",
   "metadata": {},
   "source": [
    "Choose from the following model types:\n",
    "- `squeezenet1_0`: SqueezeNet 1.0 (architecture from paper)\n",
    "- `squeezenet1_1`: SqueezeNet 1.1 (architecture from official repo)\n",
    "- `resnet50`: ResNet50\n",
    "- `vgg16_bn`: VGG16 with Batch Normalisation\n",
    "- `inception_v3`: Inceptionv3\n",
    "    "
   ]
  },
  {
   "cell_type": "code",
   "execution_count": 3,
   "metadata": {},
   "outputs": [],
   "source": [
    "model_type = 'squeezenet1_0'"
   ]
  },
  {
   "cell_type": "markdown",
   "metadata": {},
   "source": [
    "Model\n",
    "-----"
   ]
  },
  {
   "cell_type": "code",
   "execution_count": 4,
   "metadata": {},
   "outputs": [],
   "source": [
    "def train_model(model, model_type, dataloaders, criterion, optimizer, num_epochs=25):\n",
    "    start = time.time()\n",
    "    \n",
    "    train_acc_history = []\n",
    "    val_acc_history = []\n",
    "    \n",
    "    best_model_wts = copy.deepcopy(model.state_dict())\n",
    "    best_acc = 0.0\n",
    "\n",
    "    for epoch in range(num_epochs):\n",
    "        print('Epoch {}/{}'.format(epoch, num_epochs - 1))\n",
    "        print('-' * 10)\n",
    "\n",
    "        # Each epoch has a training and validation phase\n",
    "        for phase in ['train', 'val']:\n",
    "            if phase == 'train':\n",
    "                model.train()  # Set model to training mode\n",
    "            else:\n",
    "                model.eval()   # Set model to evaluate mode\n",
    "\n",
    "            running_loss = 0.0\n",
    "            running_corrects = 0\n",
    "\n",
    "            # Iterate over data.\n",
    "            for inputs, labels in dataloaders[phase]:\n",
    "                inputs = inputs.to(device)\n",
    "                labels = labels.to(device)\n",
    "\n",
    "                # zero the parameter gradients\n",
    "                optimizer.zero_grad()\n",
    "\n",
    "                # forward\n",
    "                # track history if only in train\n",
    "                with torch.set_grad_enabled(phase == 'train'):\n",
    "                    \n",
    "                    if model_type == 'inception_v3' and phase == 'train':\n",
    "                        # From https://discuss.pytorch.org/t/how-to-optimize-inception-model-with-auxiliary-classifiers/7958\n",
    "                        outputs, aux_outputs = model(inputs)\n",
    "                        loss1 = criterion(outputs, labels)\n",
    "                        loss2 = criterion(aux_outputs, labels)\n",
    "                        loss = loss1 + 0.4*loss2\n",
    "                    else:\n",
    "                        outputs = model(inputs)\n",
    "                        loss = criterion(outputs, labels)\n",
    "\n",
    "                    _, preds = torch.max(outputs, 1)\n",
    "\n",
    "                    # backward + optimize only if in training phase\n",
    "                    if phase == 'train':\n",
    "                        loss.backward()\n",
    "                        optimizer.step()\n",
    "\n",
    "                # statistics\n",
    "                running_loss += loss.item() * inputs.size(0)\n",
    "                running_corrects += torch.sum(preds == labels.data)\n",
    "\n",
    "            epoch_loss = running_loss / len(dataloaders[phase].dataset)\n",
    "            epoch_acc = running_corrects.double() / len(dataloaders[phase].dataset)\n",
    "\n",
    "            print('{} Loss: {:.4f} Acc: {:.4f}'.format(phase, epoch_loss, epoch_acc))\n",
    "\n",
    "            # deep copy the model\n",
    "            if phase == 'val' and epoch_acc > best_acc:\n",
    "                best_acc = epoch_acc\n",
    "                best_model_wts = copy.deepcopy(model.state_dict())\n",
    "                \n",
    "                torch.save(model, model_type+'.pt')\n",
    "                \n",
    "            if phase == 'train':\n",
    "                train_acc_history.append(epoch_acc)\n",
    "            if phase == 'val':\n",
    "                val_acc_history.append(epoch_acc)\n",
    "\n",
    "        print()\n",
    "\n",
    "    time_elapsed = time.time() - start\n",
    "    print('Training complete in {:.0f}m {:.0f}s'.format(time_elapsed // 60, time_elapsed % 60))\n",
    "    print('Best val Acc: {:4f}'.format(best_acc))\n",
    "\n",
    "    # load best model weights\n",
    "    model.load_state_dict(best_model_wts)\n",
    "    return model, train_acc_history, val_acc_history"
   ]
  },
  {
   "cell_type": "code",
   "execution_count": 5,
   "metadata": {},
   "outputs": [],
   "source": [
    "def set_parameter_requires_grad(model, feature_extracting):\n",
    "    if feature_extracting:\n",
    "        for param in model.parameters():\n",
    "            param.requires_grad = False"
   ]
  },
  {
   "cell_type": "code",
   "execution_count": 6,
   "metadata": {},
   "outputs": [
    {
     "name": "stdout",
     "output_type": "stream",
     "text": [
      "SqueezeNet(\n",
      "  (features): Sequential(\n",
      "    (0): Conv2d(3, 96, kernel_size=(7, 7), stride=(2, 2))\n",
      "    (1): ReLU(inplace=True)\n",
      "    (2): MaxPool2d(kernel_size=3, stride=2, padding=0, dilation=1, ceil_mode=True)\n",
      "    (3): Fire(\n",
      "      (squeeze): Conv2d(96, 16, kernel_size=(1, 1), stride=(1, 1))\n",
      "      (squeeze_activation): ReLU(inplace=True)\n",
      "      (expand1x1): Conv2d(16, 64, kernel_size=(1, 1), stride=(1, 1))\n",
      "      (expand1x1_activation): ReLU(inplace=True)\n",
      "      (expand3x3): Conv2d(16, 64, kernel_size=(3, 3), stride=(1, 1), padding=(1, 1))\n",
      "      (expand3x3_activation): ReLU(inplace=True)\n",
      "    )\n",
      "    (4): Fire(\n",
      "      (squeeze): Conv2d(128, 16, kernel_size=(1, 1), stride=(1, 1))\n",
      "      (squeeze_activation): ReLU(inplace=True)\n",
      "      (expand1x1): Conv2d(16, 64, kernel_size=(1, 1), stride=(1, 1))\n",
      "      (expand1x1_activation): ReLU(inplace=True)\n",
      "      (expand3x3): Conv2d(16, 64, kernel_size=(3, 3), stride=(1, 1), padding=(1, 1))\n",
      "      (expand3x3_activation): ReLU(inplace=True)\n",
      "    )\n",
      "    (5): Fire(\n",
      "      (squeeze): Conv2d(128, 32, kernel_size=(1, 1), stride=(1, 1))\n",
      "      (squeeze_activation): ReLU(inplace=True)\n",
      "      (expand1x1): Conv2d(32, 128, kernel_size=(1, 1), stride=(1, 1))\n",
      "      (expand1x1_activation): ReLU(inplace=True)\n",
      "      (expand3x3): Conv2d(32, 128, kernel_size=(3, 3), stride=(1, 1), padding=(1, 1))\n",
      "      (expand3x3_activation): ReLU(inplace=True)\n",
      "    )\n",
      "    (6): MaxPool2d(kernel_size=3, stride=2, padding=0, dilation=1, ceil_mode=True)\n",
      "    (7): Fire(\n",
      "      (squeeze): Conv2d(256, 32, kernel_size=(1, 1), stride=(1, 1))\n",
      "      (squeeze_activation): ReLU(inplace=True)\n",
      "      (expand1x1): Conv2d(32, 128, kernel_size=(1, 1), stride=(1, 1))\n",
      "      (expand1x1_activation): ReLU(inplace=True)\n",
      "      (expand3x3): Conv2d(32, 128, kernel_size=(3, 3), stride=(1, 1), padding=(1, 1))\n",
      "      (expand3x3_activation): ReLU(inplace=True)\n",
      "    )\n",
      "    (8): Fire(\n",
      "      (squeeze): Conv2d(256, 48, kernel_size=(1, 1), stride=(1, 1))\n",
      "      (squeeze_activation): ReLU(inplace=True)\n",
      "      (expand1x1): Conv2d(48, 192, kernel_size=(1, 1), stride=(1, 1))\n",
      "      (expand1x1_activation): ReLU(inplace=True)\n",
      "      (expand3x3): Conv2d(48, 192, kernel_size=(3, 3), stride=(1, 1), padding=(1, 1))\n",
      "      (expand3x3_activation): ReLU(inplace=True)\n",
      "    )\n",
      "    (9): Fire(\n",
      "      (squeeze): Conv2d(384, 48, kernel_size=(1, 1), stride=(1, 1))\n",
      "      (squeeze_activation): ReLU(inplace=True)\n",
      "      (expand1x1): Conv2d(48, 192, kernel_size=(1, 1), stride=(1, 1))\n",
      "      (expand1x1_activation): ReLU(inplace=True)\n",
      "      (expand3x3): Conv2d(48, 192, kernel_size=(3, 3), stride=(1, 1), padding=(1, 1))\n",
      "      (expand3x3_activation): ReLU(inplace=True)\n",
      "    )\n",
      "    (10): Fire(\n",
      "      (squeeze): Conv2d(384, 64, kernel_size=(1, 1), stride=(1, 1))\n",
      "      (squeeze_activation): ReLU(inplace=True)\n",
      "      (expand1x1): Conv2d(64, 256, kernel_size=(1, 1), stride=(1, 1))\n",
      "      (expand1x1_activation): ReLU(inplace=True)\n",
      "      (expand3x3): Conv2d(64, 256, kernel_size=(3, 3), stride=(1, 1), padding=(1, 1))\n",
      "      (expand3x3_activation): ReLU(inplace=True)\n",
      "    )\n",
      "    (11): MaxPool2d(kernel_size=3, stride=2, padding=0, dilation=1, ceil_mode=True)\n",
      "    (12): Fire(\n",
      "      (squeeze): Conv2d(512, 64, kernel_size=(1, 1), stride=(1, 1))\n",
      "      (squeeze_activation): ReLU(inplace=True)\n",
      "      (expand1x1): Conv2d(64, 256, kernel_size=(1, 1), stride=(1, 1))\n",
      "      (expand1x1_activation): ReLU(inplace=True)\n",
      "      (expand3x3): Conv2d(64, 256, kernel_size=(3, 3), stride=(1, 1), padding=(1, 1))\n",
      "      (expand3x3_activation): ReLU(inplace=True)\n",
      "    )\n",
      "  )\n",
      "  (classifier): Sequential(\n",
      "    (0): Dropout(p=0.5, inplace=False)\n",
      "    (1): Conv2d(512, 8, kernel_size=(1, 1), stride=(1, 1))\n",
      "    (2): ReLU(inplace=True)\n",
      "    (3): AdaptiveAvgPool2d(output_size=(1, 1))\n",
      "  )\n",
      ")\n"
     ]
    }
   ],
   "source": [
    "def initialise_model(num_classes, feature_extract, use_pretrained=True):\n",
    "\n",
    "    # SqueezeNet 1.0 (from original paper)\n",
    "    if model_type == \"squeezenet1_0\":\n",
    "        model_ft = models.squeezenet1_0(pretrained=use_pretrained)\n",
    "        set_parameter_requires_grad(model_ft, feature_extract)\n",
    "        model_ft.classifier[1] = nn.Conv2d(512, num_classes, kernel_size=(1,1), stride=(1,1))\n",
    "        model_ft.num_classes = num_classes\n",
    "        input_size = 224\n",
    "    \n",
    "    # SqueezeNet 1.1 (from official repo)\n",
    "    elif model_type == \"squeezenet1_1\":\n",
    "        model_ft = models.squeezenet1_1(pretrained=use_pretrained)\n",
    "        set_parameter_requires_grad(model_ft, feature_extract)\n",
    "        model_ft.classifier[1] = nn.Conv2d(512, num_classes, kernel_size=(1,1), stride=(1,1))\n",
    "        model_ft.num_classes = num_classes\n",
    "        input_size = 224\n",
    "    \n",
    "    # ResNet50\n",
    "    elif model_type == \"resnet50\":\n",
    "        model_ft = models.resnet50(pretrained=use_pretrained)\n",
    "        set_parameter_requires_grad(model_ft, feature_extract)\n",
    "        num_ftrs = model_ft.fc.in_features\n",
    "        model_ft.fc = nn.Linear(num_ftrs, num_classes)\n",
    "        input_size = 224\n",
    "    \n",
    "    # VGG16 with batch normalisation\n",
    "    elif model_name == \"vgg16_bn\":\n",
    "        model_ft = models.vgg16_bn(pretrained=use_pretrained)\n",
    "        set_parameter_requires_grad(model_ft, feature_extract)\n",
    "        num_ftrs = model_ft.classifier[6].in_features\n",
    "        model_ft.classifier[6] = nn.Linear(num_ftrs,num_classes)\n",
    "        input_size = 224\n",
    "\n",
    "    # Inceptionv3\n",
    "    elif model_name == \"inception_v3\":\n",
    "        model_ft = models.inception_v3(pretrained=use_pretrained)\n",
    "        set_parameter_requires_grad(model_ft, feature_extract)\n",
    "        # Handle the auxilary net\n",
    "        num_ftrs = model_ft.AuxLogits.fc.in_features\n",
    "        model_ft.AuxLogits.fc = nn.Linear(num_ftrs, num_classes)\n",
    "        # Handle the primary net\n",
    "        num_ftrs = model_ft.fc.in_features\n",
    "        model_ft.fc = nn.Linear(num_ftrs,num_classes)\n",
    "        input_size = 299\n",
    "        \n",
    "    return model_ft, input_size\n",
    "\n",
    "# Initialise model\n",
    "model_ft, input_size = initialise_model(num_classes, feature_extract, use_pretrained=True)\n",
    "\n",
    "print(model_ft)"
   ]
  },
  {
   "cell_type": "markdown",
   "metadata": {},
   "source": [
    "Load Data\n",
    "---------\n"
   ]
  },
  {
   "cell_type": "code",
   "execution_count": 7,
   "metadata": {},
   "outputs": [
    {
     "name": "stdout",
     "output_type": "stream",
     "text": [
      "Initialising Datasets and Dataloaders...\n"
     ]
    }
   ],
   "source": [
    "# Detect if we have a GPU available\n",
    "device = torch.device(\"cuda:0\" if torch.cuda.is_available() else \"cpu\")\n",
    "# device = \"cpu\"\n",
    "\n",
    "data_transforms = {\n",
    "    'train': transforms.Compose([\n",
    "        transforms.RandomResizedCrop(input_size),\n",
    "        transforms.RandomHorizontalFlip(),\n",
    "        transforms.ToTensor(),\n",
    "        transforms.Normalize([0.485, 0.456, 0.406], \n",
    "                             [0.229, 0.224, 0.225])\n",
    "    ]),\n",
    "    'val': transforms.Compose([\n",
    "        transforms.Resize(input_size),\n",
    "        transforms.CenterCrop(input_size),\n",
    "        transforms.ToTensor(),\n",
    "        transforms.Normalize([0.485, 0.456, 0.406], \n",
    "                             [0.229, 0.224, 0.225])\n",
    "    ]),\n",
    "}\n",
    "\n",
    "print(\"Initialising Datasets and Dataloaders...\")\n",
    "\n",
    "image_datasets = {x: datasets.ImageFolder(os.path.join(data_dir, x), data_transforms[x]) for x in ['train', 'val']}        \n"
   ]
  },
  {
   "cell_type": "code",
   "execution_count": 8,
   "metadata": {
    "scrolled": true
   },
   "outputs": [
    {
     "name": "stdout",
     "output_type": "stream",
     "text": [
      "Params to learn:\n",
      "\t features.0.weight\n",
      "\t features.0.bias\n",
      "\t features.3.squeeze.weight\n",
      "\t features.3.squeeze.bias\n",
      "\t features.3.expand1x1.weight\n",
      "\t features.3.expand1x1.bias\n",
      "\t features.3.expand3x3.weight\n",
      "\t features.3.expand3x3.bias\n",
      "\t features.4.squeeze.weight\n",
      "\t features.4.squeeze.bias\n",
      "\t features.4.expand1x1.weight\n",
      "\t features.4.expand1x1.bias\n",
      "\t features.4.expand3x3.weight\n",
      "\t features.4.expand3x3.bias\n",
      "\t features.5.squeeze.weight\n",
      "\t features.5.squeeze.bias\n",
      "\t features.5.expand1x1.weight\n",
      "\t features.5.expand1x1.bias\n",
      "\t features.5.expand3x3.weight\n",
      "\t features.5.expand3x3.bias\n",
      "\t features.7.squeeze.weight\n",
      "\t features.7.squeeze.bias\n",
      "\t features.7.expand1x1.weight\n",
      "\t features.7.expand1x1.bias\n",
      "\t features.7.expand3x3.weight\n",
      "\t features.7.expand3x3.bias\n",
      "\t features.8.squeeze.weight\n",
      "\t features.8.squeeze.bias\n",
      "\t features.8.expand1x1.weight\n",
      "\t features.8.expand1x1.bias\n",
      "\t features.8.expand3x3.weight\n",
      "\t features.8.expand3x3.bias\n",
      "\t features.9.squeeze.weight\n",
      "\t features.9.squeeze.bias\n",
      "\t features.9.expand1x1.weight\n",
      "\t features.9.expand1x1.bias\n",
      "\t features.9.expand3x3.weight\n",
      "\t features.9.expand3x3.bias\n",
      "\t features.10.squeeze.weight\n",
      "\t features.10.squeeze.bias\n",
      "\t features.10.expand1x1.weight\n",
      "\t features.10.expand1x1.bias\n",
      "\t features.10.expand3x3.weight\n",
      "\t features.10.expand3x3.bias\n",
      "\t features.12.squeeze.weight\n",
      "\t features.12.squeeze.bias\n",
      "\t features.12.expand1x1.weight\n",
      "\t features.12.expand1x1.bias\n",
      "\t features.12.expand3x3.weight\n",
      "\t features.12.expand3x3.bias\n",
      "\t classifier.1.weight\n",
      "\t classifier.1.bias\n"
     ]
    }
   ],
   "source": [
    "# Create training and validation dataloaders\n",
    "dataloaders_dict = {x: torch.utils.data.DataLoader(image_datasets[x], batch_size=batch_size, shuffle=True, num_workers=4) for x in ['train','val']}\n",
    "\n",
    "# Send the model to GPU, if available\n",
    "model_ft = model_ft.to(device)\n",
    "\n",
    "# Select which parameters to learn\n",
    "params_to_update = model_ft.parameters()\n",
    "print(\"Params to learn:\")\n",
    "if feature_extract:\n",
    "    params_to_update = []\n",
    "    for name,param in model_ft.named_parameters():\n",
    "        if param.requires_grad == True:\n",
    "            params_to_update.append(param)\n",
    "            print(\"\\t\",name)\n",
    "else:\n",
    "    for name,param in model_ft.named_parameters():\n",
    "        if param.requires_grad == True:\n",
    "            print(\"\\t\",name)\n",
    "\n",
    "# Observe that all parameters are being optimized\n",
    "optimizer_ft = optim.SGD(params_to_update, lr=0.001, momentum=0.9)"
   ]
  },
  {
   "cell_type": "markdown",
   "metadata": {},
   "source": [
    "Training and Validation\n",
    "--------------------------------\n"
   ]
  },
  {
   "cell_type": "code",
   "execution_count": 9,
   "metadata": {
    "scrolled": true
   },
   "outputs": [
    {
     "name": "stdout",
     "output_type": "stream",
     "text": [
      "Epoch 0/9\n",
      "----------\n",
      "train Loss: 2.0070 Acc: 0.2121\n",
      "val Loss: 1.8804 Acc: 0.2750\n",
      "\n",
      "Epoch 1/9\n",
      "----------\n",
      "train Loss: 1.7187 Acc: 0.3500\n",
      "val Loss: 1.7840 Acc: 0.3000\n",
      "\n",
      "Epoch 2/9\n",
      "----------\n",
      "train Loss: 1.6031 Acc: 0.3853\n",
      "val Loss: 1.4680 Acc: 0.4937\n",
      "\n",
      "Epoch 3/9\n",
      "----------\n",
      "train Loss: 1.3702 Acc: 0.4937\n",
      "val Loss: 1.1742 Acc: 0.5521\n",
      "\n",
      "Epoch 4/9\n",
      "----------\n",
      "train Loss: 1.2489 Acc: 0.5344\n",
      "val Loss: 0.8336 Acc: 0.6687\n",
      "\n",
      "Epoch 5/9\n",
      "----------\n",
      "train Loss: 1.1297 Acc: 0.5835\n",
      "val Loss: 0.9269 Acc: 0.6271\n",
      "\n",
      "Epoch 6/9\n",
      "----------\n",
      "train Loss: 1.0324 Acc: 0.6143\n",
      "val Loss: 1.3191 Acc: 0.5135\n",
      "\n",
      "Epoch 7/9\n",
      "----------\n",
      "train Loss: 0.9130 Acc: 0.6594\n",
      "val Loss: 0.9285 Acc: 0.6479\n",
      "\n",
      "Epoch 8/9\n",
      "----------\n",
      "train Loss: 0.8988 Acc: 0.6674\n",
      "val Loss: 0.8070 Acc: 0.6917\n",
      "\n",
      "Epoch 9/9\n",
      "----------\n",
      "train Loss: 0.8449 Acc: 0.6839\n",
      "val Loss: 0.7483 Acc: 0.7083\n",
      "\n",
      "Training complete in 6m 40s\n",
      "Best val Acc: 0.708333\n"
     ]
    }
   ],
   "source": [
    "# Select loss function\n",
    "criterion = nn.CrossEntropyLoss()\n",
    "\n",
    "# Train and evaluate\n",
    "model_ft, train_hist, val_hist = train_model(model_ft, model_type, dataloaders_dict, criterion, optimizer_ft, num_epochs=num_epochs)\n"
   ]
  },
  {
   "cell_type": "code",
   "execution_count": 10,
   "metadata": {},
   "outputs": [
    {
     "data": {
      "text/plain": [
       "<matplotlib.legend.Legend at 0x2440bca4128>"
      ]
     },
     "execution_count": 10,
     "metadata": {},
     "output_type": "execute_result"
    },
    {
     "data": {
      "image/png": "[encoded data removed]",
      "text/plain": [
       "<matplotlib.figure.Figure at 0x244045d4f28>"
      ]
     },
     "metadata": {},
     "output_type": "display_data"
    }
   ],
   "source": [
    "plt.plot(range(num_epochs), train_hist)\n",
    "plt.plot(range(num_epochs), val_hist)\n",
    "plt.title(\"Accuracy of training and validation set\")\n",
    "plt.xlabel(\"Epoch\")\n",
    "plt.ylabel(\"Accuracy\")\n",
    "plt.legend([\"Training set\", \"Validation set\"])"
   ]
  },
  {
   "cell_type": "markdown",
   "metadata": {},
   "source": [
    "Clear cache if you run into memory issues."
   ]
  },
  {
   "cell_type": "code",
   "execution_count": 11,
   "metadata": {},
   "outputs": [],
   "source": [
    "# import torch\n",
    "# import gc\n",
    "# #del model_ft\n",
    "# gc.collect()\n",
    "# device = torch.device(\"cuda:0\" if torch.cuda.is_available() else \"cpu\")\n",
    "# torch.cuda.empty_cache()\n",
    "# if device.type == 'cuda':\n",
    "#     print(torch.cuda.get_device_name(0))\n",
    "#     print('Memory Usage:')\n",
    "#     print('Allocated:', round(torch.cuda.memory_allocated(0)/1024**3,1), 'GB')\n",
    "#     print('Cached:   ', round(torch.cuda.memory_cached(0)/1024**3,1), 'GB')\n",
    "    "
   ]
  },
  {
   "cell_type": "markdown",
   "metadata": {},
   "source": [
    "Model assessment\n",
    "-----------------------------------"
   ]
  },
  {
   "cell_type": "code",
   "execution_count": 12,
   "metadata": {},
   "outputs": [],
   "source": [
    "y_true, y_pred = [],[]\n",
    "\n",
    "with torch.no_grad():\n",
    "    for i, (inputs, labels) in enumerate(dataloaders_dict['val']):\n",
    "        inputs = inputs.to(device)\n",
    "        labels = labels.to(device)\n",
    "        outputs = model_ft(inputs)\n",
    "        _, preds = torch.max(outputs, 1)\n",
    "        \n",
    "        y_true.extend(labels.cpu().data.numpy())\n",
    "        y_pred.extend(preds.cpu().data.numpy())\n",
    "\n",
    "y_true = [image_datasets['train'].classes[i] for i in y_true]\n",
    "y_pred = [image_datasets['train'].classes[i] for i in y_pred]"
   ]
  },
  {
   "cell_type": "code",
   "execution_count": 13,
   "metadata": {},
   "outputs": [
    {
     "name": "stdout",
     "output_type": "stream",
     "text": [
      "Overall accuracy: 70.83%\n",
      "Balanced accuracy: 70.83%\n",
      "\n",
      "\n",
      "Confusion Matrix\n",
      "[[ 94   7   9   0   0   3   7   0]\n",
      " [  1 102   4   1   0   2  10   0]\n",
      " [  4  45  59   0   0   1   4   7]\n",
      " [  0  11   0  79   4   0  21   5]\n",
      " [  0   3   3   0  84   7   4  19]\n",
      " [  5   0   0   0   5  81  28   1]\n",
      " [  4   0   0   0   0   4 108   4]\n",
      " [  0   0   0   1   2   7  37  73]]\n",
      "\n",
      "\n",
      "              precision    recall  f1-score   support\n",
      "\n",
      "         B_A       0.87      0.78      0.82       120\n",
      "         B_F       0.61      0.85      0.71       120\n",
      "        B_PT       0.79      0.49      0.61       120\n",
      "        B_TA       0.98      0.66      0.79       120\n",
      "        M_DC       0.88      0.70      0.78       120\n",
      "        M_LC       0.77      0.68      0.72       120\n",
      "        M_MC       0.49      0.90      0.64       120\n",
      "        M_PC       0.67      0.61      0.64       120\n",
      "\n",
      "    accuracy                           0.71       960\n",
      "   macro avg       0.76      0.71      0.71       960\n",
      "weighted avg       0.76      0.71      0.71       960\n",
      "\n"
     ]
    }
   ],
   "source": [
    "print('Overall accuracy: ' + str(round(accuracy_score(y_true, y_pred)*100,2)) + '%')\n",
    "print('Balanced accuracy: ' + str(round(balanced_accuracy_score(y_true, y_pred)*100,2)) + '%')\n",
    "print('\\n')\n",
    "print('Confusion Matrix')\n",
    "print(confusion_matrix(y_true,y_pred))\n",
    "print('\\n')\n",
    "print(classification_report(y_true,y_pred))"
   ]
  }
 ],
 "metadata": {
  "kernelspec": {
   "display_name": "Python 3",
   "language": "python",
   "name": "py36"
  },
  "language_info": {
   "codemirror_mode": {
    "name": "ipython",
    "version": 3
   },
   "file_extension": ".py",
   "mimetype": "text/x-python",
   "name": "python",
   "nbconvert_exporter": "python",
   "pygments_lexer": "ipython3",
   "version": "3.6.4"
  }
 },
 "nbformat": 4,
 "nbformat_minor": 1
}
