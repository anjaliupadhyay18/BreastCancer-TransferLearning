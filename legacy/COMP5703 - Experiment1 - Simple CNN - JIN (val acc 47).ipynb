{
 "cells": [
  {
   "cell_type": "code",
   "execution_count": 1,
   "metadata": {},
   "outputs": [],
   "source": [
    "import numpy as np\n",
    "import pandas as pd\n",
    "import tensorflow as tf\n",
    "import os\n",
    "import imageio\n",
    "from sklearn.model_selection import train_test_split\n",
    "from sklearn.preprocessing import MultiLabelBinarizer, OneHotEncoder\n",
    "from tensorflow.keras.preprocessing.image import ImageDataGenerator\n",
    "from tensorflow.keras.applications.xception import preprocess_input\n",
    "\n",
    "from tensorflow import keras\n",
    "from tensorflow.keras.models import Sequential\n",
    "from tensorflow.keras.layers import Dropout, Flatten, Dense, Activation, GlobalAveragePooling2D, MaxPooling2D, Conv2D\n",
    "from tensorflow.keras import applications as app\n",
    "from tensorflow.keras import optimizers, losses, activations, models\n",
    "\n",
    "#from skimage import io\n",
    "import matplotlib.pyplot as plt\n",
    "%matplotlib inline"
   ]
  },
  {
   "cell_type": "markdown",
   "metadata": {},
   "source": [
    "### Data pre-processing"
   ]
  },
  {
   "cell_type": "code",
   "execution_count": 3,
   "metadata": {},
   "outputs": [],
   "source": [
    "data_generator = ImageDataGenerator(rescale=1/255)"
   ]
  },
  {
   "cell_type": "code",
   "execution_count": 4,
   "metadata": {},
   "outputs": [
    {
     "name": "stdout",
     "output_type": "stream",
     "text": [
      "Found 5005 images belonging to 8 classes.\n",
      "Wall time: 231 ms\n"
     ]
    }
   ],
   "source": [
    "%%time\n",
    "train_generator = data_generator.flow_from_directory(\n",
    "        directory='C:/breakhis/train',\n",
    "        target_size=(150, 150),\n",
    "        batch_size=11,\n",
    "        class_mode='categorical',\n",
    "        shuffle=True)"
   ]
  },
  {
   "cell_type": "code",
   "execution_count": 5,
   "metadata": {},
   "outputs": [
    {
     "name": "stdout",
     "output_type": "stream",
     "text": [
      "Found 2904 images belonging to 8 classes.\n"
     ]
    }
   ],
   "source": [
    "test_generator = data_generator.flow_from_directory(\n",
    "        directory='C:/breakhis/test',\n",
    "        target_size=(150, 150),\n",
    "        batch_size=11,\n",
    "        class_mode='categorical',\n",
    "        shuffle=True)"
   ]
  },
  {
   "cell_type": "markdown",
   "metadata": {},
   "source": [
    "### Build Model2 (CNN)"
   ]
  },
  {
   "cell_type": "code",
   "execution_count": 6,
   "metadata": {},
   "outputs": [],
   "source": [
    "model2 = Sequential()\n",
    "model2.add(Conv2D(32, (3, 3), activation='relu', input_shape=(150, 150, 3)))\n",
    "model2.add(MaxPooling2D((2, 2)))\n",
    "model2.add(Conv2D(64, (3, 3), activation='relu'))\n",
    "\n",
    "model2.add(Flatten())\n",
    "model2.add(Dense(64, activation='relu'))\n",
    "model2.add(Dense(8, activation='softmax'))\n"
   ]
  },
  {
   "cell_type": "code",
   "execution_count": 7,
   "metadata": {},
   "outputs": [],
   "source": [
    "model2.compile(loss='categorical_crossentropy', \n",
    "              optimizer=optimizers.SGD(lr=0.0001, momentum=0.9),\n",
    "              metrics=['accuracy'])"
   ]
  },
  {
   "cell_type": "code",
   "execution_count": 8,
   "metadata": {},
   "outputs": [
    {
     "name": "stdout",
     "output_type": "stream",
     "text": [
      "Model: \"sequential\"\n",
      "_________________________________________________________________\n",
      "Layer (type)                 Output Shape              Param #   \n",
      "=================================================================\n",
      "conv2d_94 (Conv2D)           (None, 148, 148, 32)      896       \n",
      "_________________________________________________________________\n",
      "max_pooling2d_4 (MaxPooling2 (None, 74, 74, 32)        0         \n",
      "_________________________________________________________________\n",
      "conv2d_95 (Conv2D)           (None, 72, 72, 64)        18496     \n",
      "_________________________________________________________________\n",
      "flatten (Flatten)            (None, 331776)            0         \n",
      "_________________________________________________________________\n",
      "dense (Dense)                (None, 64)                21233728  \n",
      "_________________________________________________________________\n",
      "dense_1 (Dense)              (None, 8)                 520       \n",
      "=================================================================\n",
      "Total params: 21,253,640\n",
      "Trainable params: 21,253,640\n",
      "Non-trainable params: 0\n",
      "_________________________________________________________________\n"
     ]
    }
   ],
   "source": [
    "model2.summary()"
   ]
  },
  {
   "cell_type": "code",
   "execution_count": 9,
   "metadata": {},
   "outputs": [
    {
     "name": "stdout",
     "output_type": "stream",
     "text": [
      "Epoch 1/20\n",
      "455/455 [==============================] - 94s 208ms/step - loss: 1.6475 - acc: 0.4659 - val_loss: 1.7204 - val_acc: 0.4236\n",
      "Epoch 2/20\n",
      "455/455 [==============================] - 90s 197ms/step - loss: 1.5472 - acc: 0.4971 - val_loss: 1.6922 - val_acc: 0.4184\n",
      "Epoch 3/20\n",
      "455/455 [==============================] - 90s 198ms/step - loss: 1.5011 - acc: 0.5079 - val_loss: 1.6567 - val_acc: 0.4749\n",
      "Epoch 4/20\n",
      "455/455 [==============================] - 91s 199ms/step - loss: 1.4501 - acc: 0.5241 - val_loss: 1.6376 - val_acc: 0.4694\n",
      "Epoch 5/20\n",
      "455/455 [==============================] - 92s 202ms/step - loss: 1.4058 - acc: 0.5295 - val_loss: 1.6280 - val_acc: 0.4762\n",
      "Epoch 6/20\n",
      "455/455 [==============================] - 90s 198ms/step - loss: 1.3645 - acc: 0.5349 - val_loss: 1.6603 - val_acc: 0.4762\n",
      "Epoch 7/20\n",
      "455/455 [==============================] - 90s 198ms/step - loss: 1.3180 - acc: 0.5437 - val_loss: 1.6690 - val_acc: 0.4153\n",
      "Epoch 8/20\n",
      "455/455 [==============================] - 92s 202ms/step - loss: 1.2875 - acc: 0.5508 - val_loss: 1.6455 - val_acc: 0.4704\n",
      "Epoch 9/20\n",
      "455/455 [==============================] - 91s 201ms/step - loss: 1.2690 - acc: 0.5495 - val_loss: 1.6976 - val_acc: 0.4656\n",
      "Epoch 10/20\n",
      "455/455 [==============================] - 91s 200ms/step - loss: 1.2467 - acc: 0.5566 - val_loss: 1.6927 - val_acc: 0.4501\n",
      "Epoch 11/20\n",
      "455/455 [==============================] - 90s 199ms/step - loss: 1.2053 - acc: 0.5676 - val_loss: 2.1209 - val_acc: 0.3385\n",
      "Epoch 12/20\n",
      "455/455 [==============================] - 90s 197ms/step - loss: 1.2017 - acc: 0.5620 - val_loss: 1.7987 - val_acc: 0.4346\n",
      "Epoch 13/20\n",
      "455/455 [==============================] - 90s 198ms/step - loss: 1.1786 - acc: 0.5690 - val_loss: 1.8842 - val_acc: 0.4700\n",
      "Epoch 14/20\n",
      "455/455 [==============================] - 101s 222ms/step - loss: 1.1410 - acc: 0.5836 - val_loss: 1.8923 - val_acc: 0.4432\n",
      "Epoch 15/20\n",
      "455/455 [==============================] - 97s 212ms/step - loss: 1.1277 - acc: 0.5838 - val_loss: 1.7917 - val_acc: 0.4149\n",
      "Epoch 16/20\n",
      "455/455 [==============================] - 90s 198ms/step - loss: 1.1108 - acc: 0.5964 - val_loss: 1.9916 - val_acc: 0.4590\n",
      "Epoch 17/20\n",
      "455/455 [==============================] - 91s 201ms/step - loss: 1.0870 - acc: 0.5938 - val_loss: 1.8763 - val_acc: 0.4446\n",
      "Epoch 18/20\n",
      "455/455 [==============================] - 90s 197ms/step - loss: 1.0677 - acc: 0.6090 - val_loss: 2.0029 - val_acc: 0.4483\n",
      "Epoch 19/20\n",
      "455/455 [==============================] - 90s 197ms/step - loss: 1.0404 - acc: 0.6188 - val_loss: 1.9124 - val_acc: 0.4304\n",
      "Epoch 20/20\n",
      "455/455 [==============================] - 91s 199ms/step - loss: 1.0196 - acc: 0.6244 - val_loss: 2.0418 - val_acc: 0.3581\n",
      "Wall time: 30min 31s\n"
     ]
    }
   ],
   "source": [
    "%%time\n",
    "history2 = model2.fit_generator(train_generator, steps_per_epoch=5005/11, \n",
    "                              validation_data=test_generator, validation_steps=2904/11, \n",
    "                              shuffle=True, epochs=20, verbose=True)"
   ]
  },
  {
   "cell_type": "code",
   "execution_count": 21,
   "metadata": {},
   "outputs": [
    {
     "data": {
      "text/plain": [
       "<matplotlib.legend.Legend at 0x2b02bfb1a88>"
      ]
     },
     "execution_count": 21,
     "metadata": {},
     "output_type": "execute_result"
    },
    {
     "data": {
      "image/png": "[encoded data removed]",
      "text/plain": [
       "<Figure size 432x288 with 1 Axes>"
      ]
     },
     "metadata": {
      "needs_background": "light"
     },
     "output_type": "display_data"
    }
   ],
   "source": [
    "plt.plot(range(20), history2.history['acc'])\n",
    "plt.plot(range(20), history2.history['val_acc'])\n",
    "plt.title(\"Accuracy of training and validation set\")\n",
    "plt.xlabel(\"Epoch\")\n",
    "plt.ylabel(\"Accuracy\")\n",
    "plt.legend([\"Training set\", \"Validation set\"])"
   ]
  },
  {
   "cell_type": "code",
   "execution_count": 22,
   "metadata": {},
   "outputs": [
    {
     "data": {
      "text/plain": [
       "<matplotlib.legend.Legend at 0x2b02c04f8c8>"
      ]
     },
     "execution_count": 22,
     "metadata": {},
     "output_type": "execute_result"
    },
    {
     "data": {
      "image/png": "[encoded data removed]",
      "text/plain": [
       "<Figure size 432x288 with 1 Axes>"
      ]
     },
     "metadata": {
      "needs_background": "light"
     },
     "output_type": "display_data"
    }
   ],
   "source": [
    "plt.plot(range(20), history2.history['loss'])\n",
    "plt.plot(range(20), history2.history['val_loss'])\n",
    "plt.title(\"Loss of training and validation set\")\n",
    "plt.xlabel(\"Epoch\")\n",
    "plt.ylabel(\"Loss\")\n",
    "plt.legend([\"Training set\", \"Validation set\"])"
   ]
  }
 ],
 "metadata": {
  "kernelspec": {
   "display_name": "Python 3",
   "language": "python",
   "name": "python3"
  },
  "language_info": {
   "codemirror_mode": {
    "name": "ipython",
    "version": 3
   },
   "file_extension": ".py",
   "mimetype": "text/x-python",
   "name": "python",
   "nbconvert_exporter": "python",
   "pygments_lexer": "ipython3",
   "version": "3.7.4"
  }
 },
 "nbformat": 4,
 "nbformat_minor": 2
}
